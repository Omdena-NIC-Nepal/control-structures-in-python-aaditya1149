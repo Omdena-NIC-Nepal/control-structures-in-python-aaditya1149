{
 "cells": [
  {
   "cell_type": "markdown",
   "metadata": {
    "id": "dKjtSsiGT4PR"
   },
   "source": [
    "## Python Control Structures Assignment\n",
    "\n",
    "# Instructions\n",
    "Welcome to the Python Control Structures Assignment! In this assignment, you will work through a series of exercises to test your understanding of Python control structures like `while`, `for`, and `if` statements, including the use of `break` and `continue` statements. Your task is to implement the provided starter code and ensure your solutions meet the requirements.\n",
    "\n",
    "### Part 1: Looping Constructs\n",
    "\n",
    "#### Task 1: `while` loop\n",
    "- Write a `while` loop that prints all the even numbers from 0 to 20.\n",
    "- If the number reaches 16, break out of the loop."
   ]
  },
  {
   "cell_type": "code",
   "execution_count": null,
   "metadata": {
    "colab": {
     "base_uri": "https://localhost:8080/"
    },
    "executionInfo": {
     "elapsed": 45,
     "status": "ok",
     "timestamp": 1739115406013,
     "user": {
      "displayName": "Aaditya Thakur",
      "userId": "17676091389827832509"
     },
     "user_tz": -345
    },
    "id": "V_9FkzlUT4Pq",
    "outputId": "4933e20c-a939-4a45-a58b-3510743c9eba"
   },
   "outputs": [],
   "source": [
    "# Task 1: while loop\n",
    "def while_loop():\n",
    "  number = 0\n",
    "  while number <= 20:\n",
    "    if number % 2 == 0:\n",
    "      print(number)\n",
    "    if number == 16:\n",
    "      break\n",
    "    number+=1"
   ]
  },
  {
   "cell_type": "markdown",
   "metadata": {
    "id": "GL5ArCOuT4Pu"
   },
   "source": [
    "#### Task 2: `for` loop with `continue`\n",
    "- Write a `for` loop that iterates through numbers from 1 to 15.\n",
    "- If the number is divisible by 3, skip printing it using the `continue` statement.\n"
   ]
  },
  {
   "cell_type": "code",
   "execution_count": null,
   "metadata": {
    "colab": {
     "base_uri": "https://localhost:8080/"
    },
    "executionInfo": {
     "elapsed": 7,
     "status": "ok",
     "timestamp": 1739115666879,
     "user": {
      "displayName": "Aaditya Thakur",
      "userId": "17676091389827832509"
     },
     "user_tz": -345
    },
    "id": "1sDKXneuT4Pw",
    "outputId": "baca1e98-80c2-4e6e-c576-21ef4ebe9f95"
   },
   "outputs": [],
   "source": [
    "# Task 2: for loop with continue\n",
    "def for_loop_continue():\n",
    "  for num in range(1, 16):\n",
    "      if num % 3 == 0:\n",
    "        continue\n",
    "      print(num)"
   ]
  },
  {
   "cell_type": "markdown",
   "metadata": {
    "id": "-U_7RTd8T4Py"
   },
   "source": [
    "#### Task 3: `if-else` statement\n",
    "- Write an `if-else` statement that checks if a given number is positive, negative, or zero.\n",
    "- Print an appropriate message for each case."
   ]
  },
  {
   "cell_type": "code",
   "execution_count": null,
   "metadata": {
    "id": "oE9OEL4sT4Py"
   },
   "outputs": [],
   "source": [
    "# Task 3: if-else statement\n",
    "def number_classification():\n",
    "  number = int(input(\"Enter a number: \"))\n",
    "  if number == 0:\n",
    "    print(\"Number is zero.\")\n",
    "  elif number > 0:\n",
    "    print(\"Number is positive.\")\n",
    "  else:\n",
    "    print(\"Number is negative.\")\n",
    "\n"
   ]
  },
  {
   "cell_type": "markdown",
   "metadata": {
    "id": "YX5SZyQET4Pz"
   },
   "source": [
    "#### Task 4: Nested loops\n",
    "- Write a program that uses nested loops to print a multiplication table for numbers 1 through 5.\n"
   ]
  },
  {
   "cell_type": "code",
   "execution_count": null,
   "metadata": {
    "colab": {
     "base_uri": "https://localhost:8080/"
    },
    "executionInfo": {
     "elapsed": 21,
     "status": "ok",
     "timestamp": 1739116138830,
     "user": {
      "displayName": "Aaditya Thakur",
      "userId": "17676091389827832509"
     },
     "user_tz": -345
    },
    "id": "M_tFhs8jT4P0",
    "outputId": "6e444d9d-d5be-4b9f-8c68-83c34e87663a"
   },
   "outputs": [],
   "source": [
    "# Task 4: Nested loops\n",
    "def multiplication_table():\n",
    "    for i in range(1, 6):\n",
    "        for j in range(1, 6):\n",
    "            print (f\"{i} x {j} = {i * j}\")\n"
   ]
  },
  {
   "cell_type": "markdown",
   "metadata": {
    "id": "41ijJ8-aT4P1"
   },
   "source": []
  }
 ],
 "metadata": {
  "colab": {
   "provenance": []
  },
  "kernelspec": {
   "display_name": "Python 3",
   "name": "python3"
  },
  "language_info": {
   "name": "python"
  }
 },
 "nbformat": 4,
 "nbformat_minor": 0
}
